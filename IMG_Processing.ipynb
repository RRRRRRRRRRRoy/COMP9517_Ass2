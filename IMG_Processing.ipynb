{
 "metadata": {
  "language_info": {
   "codemirror_mode": {
    "name": "ipython",
    "version": 3
   },
   "file_extension": ".py",
   "mimetype": "text/x-python",
   "name": "python",
   "nbconvert_exporter": "python",
   "pygments_lexer": "ipython3",
   "version": "3.7.10-final"
  },
  "orig_nbformat": 2,
  "kernelspec": {
   "name": "python3",
   "display_name": "Python 3.7.10 64-bit ('cv': conda)",
   "metadata": {
    "interpreter": {
     "hash": "1c3e5b36da9fab1735d6396387fcbec9b6a17407c263fd2892084d5c7eaff16a"
    }
   }
  }
 },
 "nbformat": 4,
 "nbformat_minor": 2,
 "cells": [
  {
   "cell_type": "code",
   "execution_count": null,
   "metadata": {},
   "outputs": [],
   "source": [
    "# This is the first which is used to do the image processing\n",
    "# Cutting the image with the annotation ----> This is to get the vehicle Roi\n",
    "# Randomly generating the top left right and bottom to get the non-vehicle area ----> This is to get the non-vehicle Roi\n",
    "# This file is create and coing on WIN10 \n",
    "# Do not forget to change the dir"
   ]
  },
  {
   "cell_type": "code",
   "execution_count": 1,
   "metadata": {},
   "outputs": [],
   "source": [
    "import cv2\n",
    "import json\n",
    "import random"
   ]
  },
  {
   "cell_type": "code",
   "execution_count": 2,
   "metadata": {},
   "outputs": [],
   "source": [
    "annotation_location = 'H:\\\\Data\\\\benchmark_velocity_supp\\\\annotation.json'\n",
    "vehicle_output_location = './Data/vehicle_data'\n",
    "nonvehicle_output_location = './Data/nonvehicle_data'"
   ]
  },
  {
   "cell_type": "code",
   "execution_count": 3,
   "metadata": {},
   "outputs": [],
   "source": [
    "# This is the number of the images\n",
    "# From the supp file the images are start from 1\n",
    "# Setting the counter to 1\n",
    "counter = 1"
   ]
  },
  {
   "cell_type": "code",
   "execution_count": 12,
   "metadata": {
    "tags": []
   },
   "outputs": [
    {
     "output_type": "stream",
     "name": "stdout",
     "text": [
      "5067\n<class 'list'>\n"
     ]
    }
   ],
   "source": [
    "# Getting the data from the json file\n",
    "annitation = open(annotation_location)\n",
    "data = json.load(annitation)\n",
    "# The number of images in supp which is 5067\n",
    "print(len(data))\n",
    "print(type(data))"
   ]
  },
  {
   "cell_type": "code",
   "execution_count": 14,
   "metadata": {},
   "outputs": [
    {
     "output_type": "stream",
     "name": "stdout",
     "text": [
      "2\n{'file_name': 'supp_img/0001.jpg', 'bbox': [{'top': 341.0, 'right': 867.0, 'bottom': 387.0, 'left': 788.0}, {'top': 336.0, 'right': 761.0, 'bottom': 361.0, 'left': 726.0}, {'top': 341.0, 'right': 714.0, 'bottom': 375.0, 'left': 671.0}, {'top': 338.0, 'right': 649.0, 'bottom': 358.0, 'left': 624.0}, {'top': 356.0, 'right': 562.0, 'bottom': 440.0, 'left': 424.0}]}\n<class 'dict'>\n"
     ]
    }
   ],
   "source": [
    "# The length of the data\n",
    "print(len(data[0]))\n",
    "# check the detail of data\n",
    "print(data[0])\n",
    "# This dictionary is in the list\n",
    "print(type(data[0]))"
   ]
  },
  {
   "cell_type": "code",
   "execution_count": 22,
   "metadata": {},
   "outputs": [
    {
     "output_type": "stream",
     "name": "stdout",
     "text": [
      "dict_keys(['file_name', 'bbox'])\n5\n[{'top': 341.0, 'right': 867.0, 'bottom': 387.0, 'left': 788.0}, {'top': 336.0, 'right': 761.0, 'bottom': 361.0, 'left': 726.0}, {'top': 341.0, 'right': 714.0, 'bottom': 375.0, 'left': 671.0}, {'top': 338.0, 'right': 649.0, 'bottom': 358.0, 'left': 624.0}, {'top': 356.0, 'right': 562.0, 'bottom': 440.0, 'left': 424.0}]\n{'top': 341.0, 'right': 867.0, 'bottom': 387.0, 'left': 788.0}\n341.0\n788.0\n867.0\n387.0\n"
     ]
    }
   ],
   "source": [
    "# get the key from the dictionary\n",
    "print(data[0].keys())\n",
    "# check the length and detail in the dictionary\n",
    "print(len(data[0]['bbox']))\n",
    "print((data[0]['bbox']))\n",
    "# Getting the top left right and bottom from the dictionary\n",
    "print(data[0]['bbox'][0])\n",
    "print(data[0]['bbox'][0]['top'])\n",
    "print(data[0]['bbox'][0]['left'])\n",
    "print(data[0]['bbox'][0]['right'])\n",
    "print(data[0]['bbox'][0]['bottom'])\n",
    "# Therefore, using the for loop we can get all these information from the annotation.json"
   ]
  },
  {
   "cell_type": "code",
   "execution_count": null,
   "metadata": {},
   "outputs": [],
   "source": []
  }
 ]
}
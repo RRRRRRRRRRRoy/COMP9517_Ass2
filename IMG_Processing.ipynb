{
 "metadata": {
  "language_info": {
   "codemirror_mode": {
    "name": "ipython",
    "version": 3
   },
   "file_extension": ".py",
   "mimetype": "text/x-python",
   "name": "python",
   "nbconvert_exporter": "python",
   "pygments_lexer": "ipython3",
   "version": "3.7.10-final"
  },
  "orig_nbformat": 2,
  "kernelspec": {
   "name": "python3",
   "display_name": "Python 3.7.10 64-bit ('cv': conda)",
   "metadata": {
    "interpreter": {
     "hash": "1c3e5b36da9fab1735d6396387fcbec9b6a17407c263fd2892084d5c7eaff16a"
    }
   }
  }
 },
 "nbformat": 4,
 "nbformat_minor": 2,
 "cells": [
  {
   "cell_type": "code",
   "execution_count": null,
   "metadata": {},
   "outputs": [],
   "source": [
    "# This is the first which is used to do the image processing\n",
    "# Cutting the image with the annotation ----> This is to get the vehicle Roi\n",
    "# Randomly generating the top left right and bottom to get the non-vehicle area ----> This is to get the non-vehicle Roi\n",
    "# This file is create and coing on WIN10 \n",
    "# Do not forget to change the dir"
   ]
  },
  {
   "cell_type": "code",
   "execution_count": 1,
   "metadata": {},
   "outputs": [],
   "source": [
    "import cv2\n",
    "import json\n",
    "import random"
   ]
  },
  {
   "cell_type": "code",
   "execution_count": 2,
   "metadata": {},
   "outputs": [],
   "source": [
    "annotation_location = 'H:\\\\Data\\\\benchmark_velocity_supp\\\\annotation.json'\n",
    "vehicle_output_location = './Data/vehicle_data'\n",
    "nonvehicle_output_location = './Data/nonvehicle_data'"
   ]
  },
  {
   "cell_type": "code",
   "execution_count": null,
   "metadata": {},
   "outputs": [],
   "source": []
  }
 ]
}
{
 "metadata": {
  "language_info": {
   "codemirror_mode": {
    "name": "ipython",
    "version": 3
   },
   "file_extension": ".py",
   "mimetype": "text/x-python",
   "name": "python",
   "nbconvert_exporter": "python",
   "pygments_lexer": "ipython3",
   "version": "3.7.10-final"
  },
  "orig_nbformat": 2,
  "kernelspec": {
   "name": "python3",
   "display_name": "Python 3.7.10 64-bit ('cv': conda)",
   "metadata": {
    "interpreter": {
     "hash": "1c3e5b36da9fab1735d6396387fcbec9b6a17407c263fd2892084d5c7eaff16a"
    }
   }
  }
 },
 "nbformat": 4,
 "nbformat_minor": 2,
 "cells": [
  {
   "cell_type": "code",
   "execution_count": null,
   "metadata": {},
   "outputs": [],
   "source": [
    "# This is the first which is used to do the image processing\n",
    "# Cutting the image with the annotation ----> This is to get the vehicle Roi\n",
    "# Randomly generating the top left right and bottom to get the non-vehicle area ----> This is to get the non-vehicle Roi\n",
    "# This file is create and coing on WIN10 \n",
    "# Do not forget to change the dir"
   ]
  },
  {
   "cell_type": "code",
   "execution_count": 37,
   "metadata": {},
   "outputs": [],
   "source": [
    "import cv2\n",
    "import json\n",
    "import random\n",
    "import matplotlib.pyplot as plt"
   ]
  },
  {
   "cell_type": "code",
   "execution_count": 2,
   "metadata": {},
   "outputs": [],
   "source": [
    "# This is based on WIN10\r\n",
    "# If you want to generating the image in macOS, please change this\r\n",
    "annotation_location = 'H:\\\\Data\\\\benchmark_velocity_supp\\\\annotation.json'\r\n",
    "vehicle_output_location = './Data/vehicle_data'\r\n",
    "nonvehicle_output_location = './Data/nonvehicle_data'"
   ]
  },
  {
   "cell_type": "code",
   "execution_count": 12,
   "metadata": {
    "tags": []
   },
   "outputs": [
    {
     "output_type": "stream",
     "name": "stdout",
     "text": [
      "5067\n<class 'list'>\n"
     ]
    }
   ],
   "source": [
    "# Getting the data from the json file\n",
    "annitation = open(annotation_location)\n",
    "data = json.load(annitation)\n",
    "# The number of images in supp which is 5067\n",
    "print(len(data))\n",
    "print(type(data))"
   ]
  },
  {
   "cell_type": "code",
   "execution_count": 14,
   "metadata": {},
   "outputs": [
    {
     "output_type": "stream",
     "name": "stdout",
     "text": [
      "2\n{'file_name': 'supp_img/0001.jpg', 'bbox': [{'top': 341.0, 'right': 867.0, 'bottom': 387.0, 'left': 788.0}, {'top': 336.0, 'right': 761.0, 'bottom': 361.0, 'left': 726.0}, {'top': 341.0, 'right': 714.0, 'bottom': 375.0, 'left': 671.0}, {'top': 338.0, 'right': 649.0, 'bottom': 358.0, 'left': 624.0}, {'top': 356.0, 'right': 562.0, 'bottom': 440.0, 'left': 424.0}]}\n<class 'dict'>\n"
     ]
    }
   ],
   "source": [
    "# The length of the data\n",
    "print(len(data[0]))\n",
    "# check the detail of data\n",
    "print(data[0])\n",
    "# This dictionary is in the list\n",
    "print(type(data[0]))"
   ]
  },
  {
   "cell_type": "code",
   "execution_count": 26,
   "metadata": {},
   "outputs": [
    {
     "output_type": "stream",
     "name": "stdout",
     "text": [
      "dict_keys(['file_name', 'bbox'])\n5\n[{'top': 341.0, 'right': 867.0, 'bottom': 387.0, 'left': 788.0}, {'top': 336.0, 'right': 761.0, 'bottom': 361.0, 'left': 726.0}, {'top': 341.0, 'right': 714.0, 'bottom': 375.0, 'left': 671.0}, {'top': 338.0, 'right': 649.0, 'bottom': 358.0, 'left': 624.0}, {'top': 356.0, 'right': 562.0, 'bottom': 440.0, 'left': 424.0}]\n{'top': 341.0, 'right': 867.0, 'bottom': 387.0, 'left': 788.0}\n341.0\n788.0\n867.0\n387.0\nsupp_img/0001.jpg\nsupp_img/0002.jpg\nsupp_img/0003.jpg\n"
     ]
    }
   ],
   "source": [
    "# get the key from the dictionary\n",
    "print(data[0].keys())\n",
    "# check the length and detail in the dictionary\n",
    "print(len(data[0]['bbox']))\n",
    "print((data[0]['bbox']))\n",
    "# Getting the top left right and bottom from the dictionary\n",
    "print(data[0]['bbox'][0])\n",
    "print(data[0]['bbox'][0]['top'])\n",
    "print(data[0]['bbox'][0]['left'])\n",
    "print(data[0]['bbox'][0]['right'])\n",
    "print(data[0]['bbox'][0]['bottom'])\n",
    "# Therefore, using the for loop we can get all these information from the annotation.json\n",
    "\n",
    "# How to get the file name from the dictionary\n",
    "# This can help to go through the for loop in the next step\n",
    "# getting relative path of the image\n",
    "print(data[0]['file_name'])\n",
    "print(data[1]['file_name'])\n",
    "print(data[2]['file_name'])\n",
    "\n",
    "# Connecting with the dir can get the full path"
   ]
  },
  {
   "cell_type": "code",
   "execution_count": 36,
   "metadata": {},
   "outputs": [
    {
     "output_type": "stream",
     "name": "stdout",
     "text": [
      "<class 'list'>\n5\n[{'top': 341.0, 'right': 867.0, 'bottom': 387.0, 'left': 788.0}, {'top': 336.0, 'right': 761.0, 'bottom': 361.0, 'left': 726.0}, {'top': 341.0, 'right': 714.0, 'bottom': 375.0, 'left': 671.0}, {'top': 338.0, 'right': 649.0, 'bottom': 358.0, 'left': 624.0}, {'top': 356.0, 'right': 562.0, 'bottom': 440.0, 'left': 424.0}]\n<class 'dict'>\n4\n{'top': 341.0, 'right': 867.0, 'bottom': 387.0, 'left': 788.0}\n"
     ]
    }
   ],
   "source": [
    "# Check the list size\n",
    "print(type(data[0]['bbox']))\n",
    "print(len(data[0]['bbox']))\n",
    "print(data[0]['bbox'])\n",
    "# Check the dictionary size\n",
    "print(type(data[0]['bbox'][0]))\n",
    "print(len(data[0]['bbox'][0]))\n",
    "print(data[0]['bbox'][0])"
   ]
  },
  {
   "cell_type": "code",
   "execution_count": null,
   "metadata": {},
   "outputs": [],
   "source": [
    "# This is the number of the images\n",
    "# From the supp file the images are start from 1\n",
    "# Setting the counter to 1\n",
    "counter = 1"
   ]
  },
  {
   "cell_type": "code",
   "execution_count": 46,
   "metadata": {},
   "outputs": [
    {
     "output_type": "stream",
     "name": "stderr",
     "text": [
      "  0%|          | 0/5067 [00:00<?, ?it/s]\n"
     ]
    },
    {
     "output_type": "error",
     "ename": "TypeError",
     "evalue": "'NoneType' object is not subscriptable",
     "traceback": [
      "\u001b[1;31m---------------------------------------------------------------------------\u001b[0m",
      "\u001b[1;31mTypeError\u001b[0m                                 Traceback (most recent call last)",
      "\u001b[1;32m<ipython-input-46-eca9e34fdf80>\u001b[0m in \u001b[0;36m<module>\u001b[1;34m\u001b[0m\n\u001b[0;32m     24\u001b[0m         \u001b[0mright\u001b[0m \u001b[1;33m=\u001b[0m \u001b[0mint\u001b[0m\u001b[1;33m(\u001b[0m\u001b[0mdata_bbox\u001b[0m\u001b[1;33m[\u001b[0m\u001b[0mj_index\u001b[0m\u001b[1;33m]\u001b[0m\u001b[1;33m[\u001b[0m\u001b[1;34m'right'\u001b[0m\u001b[1;33m]\u001b[0m\u001b[1;33m)\u001b[0m\u001b[1;33m\u001b[0m\u001b[1;33m\u001b[0m\u001b[0m\n\u001b[0;32m     25\u001b[0m         \u001b[0mbottom\u001b[0m \u001b[1;33m=\u001b[0m \u001b[0mint\u001b[0m\u001b[1;33m(\u001b[0m\u001b[0mdata_bbox\u001b[0m\u001b[1;33m[\u001b[0m\u001b[0mj_index\u001b[0m\u001b[1;33m]\u001b[0m\u001b[1;33m[\u001b[0m\u001b[1;34m'bottom'\u001b[0m\u001b[1;33m]\u001b[0m\u001b[1;33m)\u001b[0m\u001b[1;33m\u001b[0m\u001b[1;33m\u001b[0m\u001b[0m\n\u001b[1;32m---> 26\u001b[1;33m         \u001b[0mrectangled_image\u001b[0m \u001b[1;33m=\u001b[0m \u001b[0mimage\u001b[0m\u001b[1;33m[\u001b[0m\u001b[0mtop\u001b[0m\u001b[1;33m:\u001b[0m\u001b[0mbottom\u001b[0m\u001b[1;33m,\u001b[0m\u001b[0mleft\u001b[0m\u001b[1;33m:\u001b[0m\u001b[0mright\u001b[0m\u001b[1;33m]\u001b[0m\u001b[1;33m\u001b[0m\u001b[1;33m\u001b[0m\u001b[0m\n\u001b[0m\u001b[0;32m     27\u001b[0m \u001b[1;33m\u001b[0m\u001b[0m\n",
      "\u001b[1;31mTypeError\u001b[0m: 'NoneType' object is not subscriptable"
     ]
    }
   ],
   "source": [
    "# Read data in batches\n",
    "# Using the tqdm can check the current process\n",
    "# Source: https://pypi.org/project/tqdm/\n",
    "from tqdm import tqdm\n",
    "data_size = len(data)\n",
    "for index in tqdm(range(data_size)):\n",
    "    # If you want to generating the image in macOS, please change this \n",
    "    root = 'H:\\\\Data\\\\benchmark_velocity_supp'\n",
    "    # Getting the image path\n",
    "    image_path = root+data[index]['file_name']\n",
    "    # This print is to check the file dir is correct or not\n",
    "    # print(image_path)\n",
    "\n",
    "    # read the image by using cv2 ----> previous forget\n",
    "    image = cv2.imread(image_path)\n",
    "    data_bbox = data[index]['bbox']\n",
    "    # print(len(data_bbox))\n",
    "    for j_index in range(len(data_bbox)):\n",
    "        # !!!!!!!!!!!! careful the data we get is string \n",
    "        # report : TypeError: string indices must be integers\n",
    "        # need change the type\n",
    "        top = int(data_bbox[j_index]['top'])\n",
    "        left = int(data_bbox[j_index]['left'])\n",
    "        right = int(data_bbox[j_index]['right'])\n",
    "        bottom = int(data_bbox[j_index]['bottom'])\n",
    "        rectangled_image = image[top:bottom,left:right]\n",
    "        "
   ]
  },
  {
   "cell_type": "code",
   "execution_count": null,
   "metadata": {},
   "outputs": [],
   "source": []
  }
 ]
}
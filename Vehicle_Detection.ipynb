{
 "metadata": {
  "language_info": {
   "codemirror_mode": {
    "name": "ipython",
    "version": 3
   },
   "file_extension": ".py",
   "mimetype": "text/x-python",
   "name": "python",
   "nbconvert_exporter": "python",
   "pygments_lexer": "ipython3",
   "version": 3
  },
  "orig_nbformat": 2
 },
 "nbformat": 4,
 "nbformat_minor": 2,
 "cells": [
  {
   "source": [
    "In the Vehicle detection part, there are 2 steps<br>\n",
    "The first step : feature extraction<br>\n",
    "The Second step : training processing<br>"
   ],
   "cell_type": "markdown",
   "metadata": {}
  },
  {
   "cell_type": "code",
   "execution_count": null,
   "metadata": {},
   "outputs": [],
   "source": [
    "# This assignment has the following step\n",
    "# 1st step: data processing(in the img_processing part)\n",
    "# 2nd step: feature extraction\n",
    "# 3rd step: training process\n",
    "# 4th step: evaluation process"
   ]
  },
  {
   "cell_type": "code",
   "execution_count": null,
   "metadata": {},
   "outputs": [],
   "source": [
    "# Here are some sample which implement the Vehicle detection based on HOG + Color histogram + SVM\n",
    "# Source: https://github.com/ckirksey3/vehicle-detection-with-svm\n",
    "# Another Chinese Version of Vehicle Detection\n",
    "# Source: https://zhuanlan.zhihu.com/p/60229208"
   ]
  },
  {
   "source": [
    "### Feature Extraction"
   ],
   "cell_type": "markdown",
   "metadata": {}
  },
  {
   "cell_type": "code",
   "execution_count": null,
   "metadata": {},
   "outputs": [],
   "source": [
    "import numpy as np \n",
    "import cv2\n",
    "import skimage.feature import hog"
   ]
  },
  {
   "cell_type": "code",
   "execution_count": null,
   "metadata": {},
   "outputs": [],
   "source": [
    "# This Assignment used the Hog + color histogram\n",
    "# This is Due to that the output vector can easily connect with each other\n",
    "# You can also choose the SIFT, but SIFT needs to create the Bag of Words\n",
    "# This will increate the work, also hard for freshman to implement"
   ]
  },
  {
   "cell_type": "code",
   "execution_count": null,
   "metadata": {},
   "outputs": [],
   "source": [
    "# The Hog feature also used in object detection\n",
    "# Source: https://www.analyticsvidhya.com/blog/2019/09/feature-engineering-images-introduction-hog-feature-descriptor/\n",
    "# Example Of using Hog\n",
    "# Source: https://scikit-image.org/docs/dev/auto_examples/features_detection/plot_hog.html"
   ]
  },
  {
   "cell_type": "code",
   "execution_count": null,
   "metadata": {},
   "outputs": [],
   "source": [
    "# Here need to use Hog-----> Parameters\n",
    "# Source: https://www.kite.com/python/docs/skimage.feature.hog#\n",
    "# The return has 2 return which are newarr and hog_image\n",
    "# You can also find this code from the following reference\n",
    "# source: Source: https://github.com/ckirksey3/vehicle-detection-with-svm\n",
    "def get_hog_features(imag, orient, pixel_per_cell, cell_per_block, visual=False, feature_vect=True):\n",
    "    # visualise == False ----> hog img connot see\n",
    "    if visual == False:\n",
    "        features = hog(imag, orientations=orient, pixels_per_cell=(pix_per_cell, pix_per_cell),\n",
    "                       cells_per_block=(cell_per_block, cell_per_block), block_norm= 'L2-Hys',\n",
    "                       transform_sqrt=True, visualise=visual, feature_vector=feature_vect)\n",
    "        return features\n",
    "    elif visual == True:\n",
    "        # visualise == True ----> hog img can be seen\n",
    "\n",
    "        "
   ]
  },
  {
   "source": [
    "### Training Process"
   ],
   "cell_type": "markdown",
   "metadata": {}
  },
  {
   "cell_type": "code",
   "execution_count": null,
   "metadata": {},
   "outputs": [],
   "source": []
  },
  {
   "source": [
    "### Evaluation Part"
   ],
   "cell_type": "markdown",
   "metadata": {}
  }
 ]
}